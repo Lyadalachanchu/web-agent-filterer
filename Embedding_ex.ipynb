{
 "cells": [
  {
   "cell_type": "code",
   "execution_count": null,
   "id": "6b9b45f7",
   "metadata": {},
   "outputs": [
    {
     "name": "stdout",
     "output_type": "stream",
     "text": [
      "Single embedding length: 1536\n",
      "[0.009889289736747742, -0.005578675772994757, 0.00683477520942688, -0.03805781528353691, -0.01824733428657055, -0.04121600463986397, -0.007636285852640867, 0.03225184231996536]\n"
     ]
    },
    {
     "name": "stderr",
     "output_type": "stream",
     "text": [
      "batches: 100%|██████████| 2/2 [00:00<00:00,  3.73it/s]"
     ]
    },
    {
     "name": "stdout",
     "output_type": "stream",
     "text": [
      "Batched results:\n",
      "- 'Hello world': 1536 dims\n",
      "- 'Translate the page title': 1536 dims\n",
      "- None: None dims\n",
      "- 'Contact form email field': 1536 dims\n"
     ]
    },
    {
     "name": "stderr",
     "output_type": "stream",
     "text": [
      "\n"
     ]
    }
   ],
   "source": [
    "from openai import OpenAI\n",
    "from Embedding import get_embedding, batch_get_embeddings\n",
    "\n",
    "# Create client from environment variable (or pass api_key here)\n",
    "# If OPENAI_API_KEY is set in your environment or loaded via .env, OpenAI() will pick it up.\n",
    "client = OpenAI(api_key=None)\n",
    "\n",
    "# Single-text example\n",
    "test = \"This is a test\"\n",
    "emb = get_embedding(client, test)\n",
    "print(f\"Single embedding length: {len(emb)}\")\n",
    "print(emb[:8])  # print first 8 values\n",
    "\n",
    "# Batched example\n",
    "texts = [\"Hello world\", \"Translate the page title\", None, \"Contact form email field\"]\n",
    "embs = batch_get_embeddings(client, texts, batch_size=2)\n",
    "print(\"Batched results:\")\n",
    "for t, e in zip(texts, embs):\n",
    "    print(f\"- {t!r}: {None if e is None else len(e)} dims\")\n"
   ]
  },
  {
   "cell_type": "code",
   "execution_count": null,
   "id": "be5ab85e",
   "metadata": {},
   "outputs": [
    {
     "ename": "NameError",
     "evalue": "name 'get_embedding' is not defined",
     "output_type": "error",
     "traceback": [
      "\u001b[0;31m---------------------------------------------------------------------------\u001b[0m",
      "\u001b[0;31mNameError\u001b[0m                                 Traceback (most recent call last)",
      "Cell \u001b[0;32mIn[1], line 1\u001b[0m\n\u001b[0;32m----> 1\u001b[0m get_embedding(test)\n",
      "\u001b[0;31mNameError\u001b[0m: name 'get_embedding' is not defined"
     ]
    }
   ],
   "source": []
  },
  {
   "cell_type": "code",
   "execution_count": null,
   "id": "5f79f360",
   "metadata": {},
   "outputs": [],
   "source": []
  }
 ],
 "metadata": {
  "kernelspec": {
   "display_name": "base",
   "language": "python",
   "name": "python3"
  },
  "language_info": {
   "codemirror_mode": {
    "name": "ipython",
    "version": 3
   },
   "file_extension": ".py",
   "mimetype": "text/x-python",
   "name": "python",
   "nbconvert_exporter": "python",
   "pygments_lexer": "ipython3",
   "version": "3.12.4"
  }
 },
 "nbformat": 4,
 "nbformat_minor": 5
}
