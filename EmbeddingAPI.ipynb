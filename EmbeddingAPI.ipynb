{
 "cells": [
  {
   "cell_type": "code",
   "execution_count": 11,
   "id": "6c3c21d8",
   "metadata": {},
   "outputs": [
    {
     "name": "stdout",
     "output_type": "stream",
     "text": [
      "openai already installed\n",
      "pandas already installed\n",
      "tqdm already installed\n",
      "If packages were installed, please restart the notebook kernel before running the embedding cell.\n"
     ]
    }
   ],
   "source": [
    "# Cell 2: Install required packages into the current kernel\n",
    "import sys\n",
    "import subprocess\n",
    "\n",
    "packages = [\"openai\", \"pandas\", \"tqdm\"]\n",
    "\n",
    "for pkg in packages:\n",
    "    try:\n",
    "        __import__(pkg)\n",
    "        print(f\"{pkg} already installed\")\n",
    "    except ImportError:\n",
    "        print(f\"Installing {pkg}...\")\n",
    "        subprocess.check_call([sys.executable, \"-m\", \"pip\", \"install\", pkg])\n",
    "\n",
    "print(\"If packages were installed, please restart the notebook kernel before running the embedding cell.\")"
   ]
  },
  {
   "cell_type": "code",
   "execution_count": 12,
   "id": "268e8e41",
   "metadata": {},
   "outputs": [
    {
     "name": "stdout",
     "output_type": "stream",
     "text": [
      "No .env file found in parent directories. If your key is stored outside the repo, ensure its path is discoverable.\n"
     ]
    }
   ],
   "source": [
    "import os\n",
    "from dotenv import load_dotenv, find_dotenv\n",
    "\n",
    "# Attempt to find a .env file in parent directories (outside the repo) so secrets can stay out of the project.\n",
    "env_path = find_dotenv(usecwd=True)\n",
    "if env_path:\n",
    "    load_dotenv(env_path, override=True)\n",
    "    print(f\"Loaded .env from: {env_path}\")\n",
    "else:\n",
    "    print(\"No .env file found in parent directories. If your key is stored outside the repo, ensure its path is discoverable.\")\n"
   ]
  },
  {
   "cell_type": "code",
   "execution_count": null,
   "id": "ba04d0f1",
   "metadata": {},
   "outputs": [
    {
     "name": "stdout",
     "output_type": "stream",
     "text": [
      "Warning: OPENAI_API_KEY not set. Set it as an environment variable before running embeddings.\n"
     ]
    },
    {
     "ename": "OpenAIError",
     "evalue": "The api_key client option must be set either by passing api_key to the client or by setting the OPENAI_API_KEY environment variable",
     "output_type": "error",
     "traceback": [
      "\u001b[0;31m---------------------------------------------------------------------------\u001b[0m",
      "\u001b[0;31mOpenAIError\u001b[0m                               Traceback (most recent call last)",
      "Cell \u001b[0;32mIn[18], line 11\u001b[0m\n\u001b[1;32m      8\u001b[0m OPENAI_API_KEY\u001b[38;5;241m=\u001b[39m \u001b[38;5;124m'\u001b[39m\u001b[38;5;124msk-proj-M74VD9yRqABTAw5NGRt_DjtY96kHIkNrheNUeYUVI6qdSxYafeRkgAgLpc3Ku5AyRZtEDCEJGZT3BlbkFJlGMDRZUFV8JmSjlxOx4AHTa0124PgO1iwTNnViqvuHJn0OsMuxYpl8qMWgsYv3L3LuKfMxNxkA\u001b[39m\u001b[38;5;124m'\u001b[39m\n\u001b[1;32m      9\u001b[0m \u001b[38;5;28;01mfrom\u001b[39;00m \u001b[38;5;21;01mopenai\u001b[39;00m \u001b[38;5;28;01mimport\u001b[39;00m OpenAI\n\u001b[0;32m---> 11\u001b[0m client \u001b[38;5;241m=\u001b[39m \u001b[43mOpenAI\u001b[49m\u001b[43m(\u001b[49m\u001b[43m)\u001b[49m\n\u001b[1;32m     15\u001b[0m \u001b[38;5;28;01mdef\u001b[39;00m \u001b[38;5;21mget_embedding\u001b[39m(text, model\u001b[38;5;241m=\u001b[39m\u001b[38;5;124m\"\u001b[39m\u001b[38;5;124mtext-embedding-3-small\u001b[39m\u001b[38;5;124m\"\u001b[39m):\n\u001b[1;32m     16\u001b[0m \u001b[38;5;250m    \u001b[39m\u001b[38;5;124;03m\"\"\"Return embedding for a single string using OpenAI Embeddings API.\u001b[39;00m\n\u001b[1;32m     17\u001b[0m \n\u001b[1;32m     18\u001b[0m \u001b[38;5;124;03m    - Replaces newlines with spaces to keep inputs compact.\u001b[39;00m\n\u001b[1;32m     19\u001b[0m \u001b[38;5;124;03m    - Returns list[float].\u001b[39;00m\n\u001b[1;32m     20\u001b[0m \u001b[38;5;124;03m    \"\"\"\u001b[39;00m\n",
      "File \u001b[0;32m/opt/homebrew/Caskroom/miniconda/base/envs/ml2/lib/python3.8/site-packages/openai/_client.py:135\u001b[0m, in \u001b[0;36mOpenAI.__init__\u001b[0;34m(self, api_key, organization, project, webhook_secret, base_url, websocket_base_url, timeout, max_retries, default_headers, default_query, http_client, _strict_response_validation)\u001b[0m\n\u001b[1;32m    133\u001b[0m     api_key \u001b[38;5;241m=\u001b[39m os\u001b[38;5;241m.\u001b[39menviron\u001b[38;5;241m.\u001b[39mget(\u001b[38;5;124m\"\u001b[39m\u001b[38;5;124mOPENAI_API_KEY\u001b[39m\u001b[38;5;124m\"\u001b[39m)\n\u001b[1;32m    134\u001b[0m \u001b[38;5;28;01mif\u001b[39;00m api_key \u001b[38;5;129;01mis\u001b[39;00m \u001b[38;5;28;01mNone\u001b[39;00m:\n\u001b[0;32m--> 135\u001b[0m     \u001b[38;5;28;01mraise\u001b[39;00m OpenAIError(\n\u001b[1;32m    136\u001b[0m         \u001b[38;5;124m\"\u001b[39m\u001b[38;5;124mThe api_key client option must be set either by passing api_key to the client or by setting the OPENAI_API_KEY environment variable\u001b[39m\u001b[38;5;124m\"\u001b[39m\n\u001b[1;32m    137\u001b[0m     )\n\u001b[1;32m    138\u001b[0m \u001b[38;5;28;01mif\u001b[39;00m \u001b[38;5;28mcallable\u001b[39m(api_key):\n\u001b[1;32m    139\u001b[0m     \u001b[38;5;28mself\u001b[39m\u001b[38;5;241m.\u001b[39mapi_key \u001b[38;5;241m=\u001b[39m \u001b[38;5;124m\"\u001b[39m\u001b[38;5;124m\"\u001b[39m\n",
      "\u001b[0;31mOpenAIError\u001b[0m: The api_key client option must be set either by passing api_key to the client or by setting the OPENAI_API_KEY environment variable"
     ]
    }
   ],
   "source": [
    "import os\n",
    "import pandas as pd\n",
    "from tqdm import tqdm\n",
    "\n",
    "# Ensure your OPENAI_API_KEY is set in the environment before running\n",
    "if 'OPENAI_API_KEY' not in os.environ:\n",
    "    print(\"Warning: OPENAI_API_KEY not set. Set it as an environment variable before running embeddings.\")\n",
    "\n",
    "from openai import OpenAI\n",
    "client = OpenAI()\n",
    "\n",
    "\n",
    "def get_embedding(text, model=\"text-embedding-3-small\"):\n",
    "    \"\"\"Return embedding for a single string using OpenAI Embeddings API.\n",
    "\n",
    "    - Replaces newlines with spaces to keep inputs compact.\n",
    "    - Returns list[float].\n",
    "    \"\"\"\n",
    "    if text is None:\n",
    "        return None\n",
    "    text = str(text).replace(\"\\n\", \" \")\n",
    "    resp = client.embeddings.create(input=[text], model=model)\n",
    "    return resp.data[0].embedding\n",
    "\n",
    "# Example usage: load a CSV with a `combined` column and compute embeddings\n",
    "# Uncomment and change paths as needed.\n",
    "# df = pd.read_csv('data/1k_reviews.csv')\n",
    "# tqdm.pandas()\n",
    "# df['ada_embedding'] = df['combined'].progress_apply(lambda x: get_embedding(x, model='text-embedding-3-small'))\n",
    "# os.makedirs('output', exist_ok=True)\n",
    "# df.to_csv('output/embedded_1k_reviews.csv', index=False)\n"
   ]
  },
  {
   "cell_type": "code",
   "execution_count": 9,
   "id": "c8e64f8a",
   "metadata": {},
   "outputs": [
    {
     "data": {
      "text/plain": [
       "['TechVision',\n",
       " 'Home',\n",
       " 'About',\n",
       " 'Services',\n",
       " 'Portfolio',\n",
       " 'Blog',\n",
       " 'Contact',\n",
       " 'About TechVision',\n",
       " 'Pioneering innovation and excellence in technology solutions since 2013',\n",
       " 'Our Mission',\n",
       " 'Empowering Businesses Through Technology',\n",
       " 'At TechVision, we believe technology should empower, not complicate. \\n                            Our mission is to deliver innovative solutions that transform how businesses \\n                            operate, helping them thrive in an increasingly digital world.',\n",
       " 'We combine cutting-edge technology with deep industry expertise to create \\n                            solutions that are not just powerful, but also intuitive and accessible. \\n                            Every project we undertake is driven by a commitment to excellence and \\n                            a passion for innovation.',\n",
       " '🎯',\n",
       " 'Innovation First',\n",
       " 'Pushing boundaries to deliver cutting-edge solutions',\n",
       " '🤝',\n",
       " 'Client Partnership',\n",
       " 'Building lasting relationships based on trust',\n",
       " '⚡',\n",
       " 'Excellence',\n",
       " 'Committed to the highest standards of quality',\n",
       " '12+',\n",
       " 'Years',\n",
       " '500+',\n",
       " 'Projects',\n",
       " 'Our Journey',\n",
       " 'Milestones & Achievements',\n",
       " '2013',\n",
       " 'Foundation',\n",
       " 'TechVision was founded with a vision to revolutionize digital solutions \\n                                for small and medium businesses.',\n",
       " '2015',\n",
       " 'Expansion',\n",
       " 'Grew to a team of 25 professionals and opened our first international office.',\n",
       " '2018',\n",
       " 'Innovation Award',\n",
       " 'Received the Technology Innovation Award for our groundbreaking AI solutions.',\n",
       " '2021',\n",
       " '100th Client',\n",
       " 'Celebrated serving our 100th enterprise client and completing 500+ projects.',\n",
       " '2025',\n",
       " 'Global Leader',\n",
       " 'Recognized as a global leader in digital transformation with 150+ team members.',\n",
       " 'Our Team',\n",
       " 'Meet the Experts',\n",
       " 'Talented individuals passionate about creating exceptional solutions',\n",
       " 'AJ',\n",
       " 'Alex Johnson',\n",
       " 'CEO & Founder',\n",
       " 'Visionary leader with 15+ years in tech innovation',\n",
       " 'LinkedIn',\n",
       " 'Twitter',\n",
       " 'SC',\n",
       " 'Sarah Chen',\n",
       " 'Chief Technology Officer',\n",
       " 'Expert in cloud architecture and scalable systems',\n",
       " 'LinkedIn',\n",
       " 'Twitter',\n",
       " 'MP',\n",
       " 'Marcus Peterson',\n",
       " 'Head of Design',\n",
       " 'Award-winning designer focused on user experience',\n",
       " 'LinkedIn',\n",
       " 'Dribbble',\n",
       " 'EP',\n",
       " 'Emily Rodriguez',\n",
       " 'VP of Engineering',\n",
       " 'Leading our engineering team to build robust solutions',\n",
       " 'LinkedIn',\n",
       " 'GitHub',\n",
       " 'Want to Join Our Team?',\n",
       " \"We're always looking for talented individuals to join our mission.\",\n",
       " 'Get in Touch',\n",
       " 'TechVision',\n",
       " 'Building the future of technology, one solution at a time.',\n",
       " 'Company',\n",
       " 'About Us',\n",
       " 'Services',\n",
       " 'Portfolio',\n",
       " 'Blog',\n",
       " 'Support',\n",
       " 'Contact',\n",
       " 'FAQ',\n",
       " 'Documentation',\n",
       " 'Support Center',\n",
       " 'Legal',\n",
       " 'Privacy Policy',\n",
       " 'Terms of Service',\n",
       " 'Cookie Policy',\n",
       " 'Licensing',\n",
       " '© 2025 TechVision. All rights reserved.']"
      ]
     },
     "execution_count": 9,
     "metadata": {},
     "output_type": "execute_result"
    }
   ],
   "source": [
    "# test_emb = get_embedding(\"This is a test\")\n",
    "from html_helpers import extract_leaves\n",
    "extract_leaves('about.html')"
   ]
  },
  {
   "cell_type": "code",
   "execution_count": 26,
   "id": "a24892da",
   "metadata": {},
   "outputs": [
    {
     "data": {
      "text/plain": [
       "1536"
      ]
     },
     "execution_count": 26,
     "metadata": {},
     "output_type": "execute_result"
    }
   ],
   "source": [
    "test_emb.__len__()"
   ]
  },
  {
   "cell_type": "code",
   "execution_count": 33,
   "id": "b2008821",
   "metadata": {},
   "outputs": [],
   "source": [
    "test_emb = np.dot(test_emb, test_emb)"
   ]
  },
  {
   "cell_type": "code",
   "execution_count": null,
   "id": "34a2dcdc",
   "metadata": {},
   "outputs": [
    {
     "data": {
      "text/plain": [
       "1.0000000439932852"
      ]
     },
     "execution_count": 34,
     "metadata": {},
     "output_type": "execute_result"
    }
   ],
   "source": [
    "test_emb"
   ]
  },
  {
   "cell_type": "code",
   "execution_count": null,
   "id": "6c52e9c2",
   "metadata": {},
   "outputs": [],
   "source": []
  }
 ],
 "metadata": {
  "kernelspec": {
   "display_name": "ml2",
   "language": "python",
   "name": "python3"
  },
  "language_info": {
   "codemirror_mode": {
    "name": "ipython",
    "version": 3
   },
   "file_extension": ".py",
   "mimetype": "text/x-python",
   "name": "python",
   "nbconvert_exporter": "python",
   "pygments_lexer": "ipython3",
   "version": "3.8.20"
  }
 },
 "nbformat": 4,
 "nbformat_minor": 5
}
