{
 "cells": [
  {
   "cell_type": "code",
   "execution_count": 10,
   "id": "6c3c21d8",
   "metadata": {},
   "outputs": [
    {
     "name": "stdout",
     "output_type": "stream",
     "text": [
      "openai already installed\n",
      "pandas already installed\n",
      "tqdm already installed\n",
      "If packages were installed, please restart the notebook kernel before running the embedding cell.\n"
     ]
    }
   ],
   "source": [
    "# Cell 2: Install required packages into the current kernel\n",
    "import sys\n",
    "import subprocess\n",
    "\n",
    "packages = [\"openai\", \"pandas\", \"tqdm\"]\n",
    "\n",
    "for pkg in packages:\n",
    "    try:\n",
    "        __import__(pkg)\n",
    "        print(f\"{pkg} already installed\")\n",
    "    except ImportError:\n",
    "        print(f\"Installing {pkg}...\")\n",
    "        subprocess.check_call([sys.executable, \"-m\", \"pip\", \"install\", pkg])\n",
    "\n",
    "print(\"If packages were installed, please restart the notebook kernel before running the embedding cell.\")\n",
    "\n",
    "\n"
   ]
  },
  {
   "cell_type": "code",
   "execution_count": 19,
   "id": "268e8e41",
   "metadata": {},
   "outputs": [
    {
     "data": {
      "text/plain": [
       "True"
      ]
     },
     "execution_count": 19,
     "metadata": {},
     "output_type": "execute_result"
    }
   ],
   "source": [
    "import dotenv  # Load environment variables from .env file\n",
    "dotenv.load_dotenv(override=True)"
   ]
  },
  {
   "cell_type": "code",
   "execution_count": 20,
   "id": "ba04d0f1",
   "metadata": {},
   "outputs": [],
   "source": [
    "import os\n",
    "import pandas as pd\n",
    "from tqdm import tqdm\n",
    "\n",
    "# Ensure your OPENAI_API_KEY is set in the environment before running\n",
    "if 'OPENAI_API_KEY' not in os.environ:\n",
    "    print(\"Warning: OPENAI_API_KEY not set. Set it as an environment variable before running embeddings.\")\n",
    "\n",
    "from openai import OpenAI\n",
    "client = OpenAI()\n",
    "\n",
    "\n",
    "def get_embedding(text, model=\"text-embedding-3-small\"):\n",
    "    \"\"\"Return embedding for a single string using OpenAI Embeddings API.\n",
    "\n",
    "    - Replaces newlines with spaces to keep inputs compact.\n",
    "    - Returns list[float].\n",
    "    \"\"\"\n",
    "    if text is None:\n",
    "        return None\n",
    "    text = str(text).replace(\"\\n\", \" \")\n",
    "    resp = client.embeddings.create(input=[text], model=model)\n",
    "    return resp.data[0].embedding\n",
    "\n",
    "# Example usage: load a CSV with a `combined` column and compute embeddings\n",
    "# Uncomment and change paths as needed.\n",
    "# df = pd.read_csv('data/1k_reviews.csv')\n",
    "# tqdm.pandas()\n",
    "# df['ada_embedding'] = df['combined'].progress_apply(lambda x: get_embedding(x, model='text-embedding-3-small'))\n",
    "# os.makedirs('output', exist_ok=True)\n",
    "# df.to_csv('output/embedded_1k_reviews.csv', index=False)\n"
   ]
  },
  {
   "cell_type": "code",
   "execution_count": 22,
   "id": "c8e64f8a",
   "metadata": {},
   "outputs": [],
   "source": [
    "test_emb = get_embedding(\"This is a test\")"
   ]
  },
  {
   "cell_type": "code",
   "execution_count": 26,
   "id": "a24892da",
   "metadata": {},
   "outputs": [
    {
     "data": {
      "text/plain": [
       "1536"
      ]
     },
     "execution_count": 26,
     "metadata": {},
     "output_type": "execute_result"
    }
   ],
   "source": [
    "test_emb.__len__()"
   ]
  },
  {
   "cell_type": "code",
   "execution_count": 27,
   "id": "b2008821",
   "metadata": {},
   "outputs": [
    {
     "data": {
      "text/plain": [
       "0.009889289736747742"
      ]
     },
     "execution_count": 27,
     "metadata": {},
     "output_type": "execute_result"
    }
   ],
   "source": [
    "test_emb[0]"
   ]
  },
  {
   "cell_type": "code",
   "execution_count": null,
   "id": "34a2dcdc",
   "metadata": {},
   "outputs": [],
   "source": []
  }
 ],
 "metadata": {
  "kernelspec": {
   "display_name": "base",
   "language": "python",
   "name": "python3"
  },
  "language_info": {
   "codemirror_mode": {
    "name": "ipython",
    "version": 3
   },
   "file_extension": ".py",
   "mimetype": "text/x-python",
   "name": "python",
   "nbconvert_exporter": "python",
   "pygments_lexer": "ipython3",
   "version": "3.12.4"
  }
 },
 "nbformat": 4,
 "nbformat_minor": 5
}
