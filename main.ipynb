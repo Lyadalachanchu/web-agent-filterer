{
 "cells": [
  {
   "cell_type": "code",
   "execution_count": 46,
   "id": "2d0574a5",
   "metadata": {},
   "outputs": [],
   "source": [
    "from html_helpers import extract_parent_html_of_leaves\n",
    "from make_query import subgoal_to_embedding\n",
    "import os\n",
    "from dotenv import load_dotenv\n",
    "from openai import OpenAI\n",
    "import numpy as np\n",
    "load_dotenv()\n",
    "leaves = extract_parent_html_of_leaves('portfolio.html')"
   ]
  },
  {
   "cell_type": "code",
   "execution_count": 47,
   "id": "4fa73fdb",
   "metadata": {},
   "outputs": [
    {
     "name": "stderr",
     "output_type": "stream",
     "text": [
      "100%|██████████| 131/131 [00:32<00:00,  4.05it/s]\n"
     ]
    }
   ],
   "source": [
    "from openai import OpenAI\n",
    "from Embedding import get_embedding, batch_get_embeddings\n",
    "from tqdm import tqdm\n",
    "\n",
    "leaf_embeddings = []\n",
    "for leaf in tqdm(leaves):\n",
    "    leaf_embedding = get_embedding(client, leaf)\n",
    "    leaf_embeddings.append(leaf_embedding)"
   ]
  },
  {
   "cell_type": "code",
   "execution_count": 51,
   "id": "eca3b87d",
   "metadata": {},
   "outputs": [
    {
     "name": "stdout",
     "output_type": "stream",
     "text": [
      "Transformed sub-goal → query:\n",
      "  'What/with whom did Techvision previously work with?' →\n",
      "  '\"section or div element containing past collaborations or partners, text content with phrases like 'previously worked with', list or unordered list of companies or organizations, elements with class names like 'partners', 'collaborations', or 'case-studies'\"'\n"
     ]
    }
   ],
   "source": [
    "# Create client from environment variable (or pass api_key here)\n",
    "# If OPENAI_API_KEY is set in your environment or loaded via .env, OpenAI() will pick it up.\n",
    "client = OpenAI(api_key=None)\n",
    "subgoal = 'What/with whom did Techvision previously work with?'\n",
    "embedding, query = subgoal_to_embedding(subgoal, transform=True)"
   ]
  },
  {
   "cell_type": "code",
   "execution_count": 52,
   "id": "f3649e34",
   "metadata": {},
   "outputs": [
    {
     "name": "stdout",
     "output_type": "stream",
     "text": [
      "(1536,)\n",
      "(1536,)\n",
      "(1536,)\n",
      "(1536,)\n",
      "(1536,)\n",
      "(1536,)\n",
      "(1536,)\n",
      "(1536,)\n",
      "(1536,)\n",
      "(1536,)\n",
      "(1536,)\n",
      "(1536,)\n",
      "(1536,)\n",
      "(1536,)\n",
      "(1536,)\n",
      "(1536,)\n",
      "(1536,)\n",
      "(1536,)\n",
      "(1536,)\n",
      "(1536,)\n",
      "(1536,)\n",
      "(1536,)\n",
      "(1536,)\n",
      "(1536,)\n",
      "(1536,)\n",
      "(1536,)\n",
      "(1536,)\n",
      "(1536,)\n",
      "(1536,)\n",
      "(1536,)\n",
      "(1536,)\n",
      "(1536,)\n",
      "(1536,)\n",
      "(1536,)\n",
      "(1536,)\n",
      "(1536,)\n",
      "(1536,)\n",
      "(1536,)\n",
      "(1536,)\n",
      "(1536,)\n",
      "(1536,)\n",
      "(1536,)\n",
      "(1536,)\n",
      "(1536,)\n",
      "(1536,)\n",
      "(1536,)\n",
      "(1536,)\n",
      "(1536,)\n",
      "(1536,)\n",
      "(1536,)\n",
      "(1536,)\n",
      "(1536,)\n",
      "(1536,)\n",
      "(1536,)\n",
      "(1536,)\n",
      "(1536,)\n",
      "(1536,)\n",
      "(1536,)\n",
      "(1536,)\n",
      "(1536,)\n",
      "(1536,)\n",
      "(1536,)\n",
      "(1536,)\n",
      "(1536,)\n",
      "(1536,)\n",
      "(1536,)\n",
      "(1536,)\n",
      "(1536,)\n",
      "(1536,)\n",
      "(1536,)\n",
      "(1536,)\n",
      "(1536,)\n",
      "(1536,)\n",
      "(1536,)\n",
      "(1536,)\n",
      "(1536,)\n",
      "(1536,)\n",
      "(1536,)\n",
      "(1536,)\n",
      "(1536,)\n",
      "(1536,)\n",
      "(1536,)\n",
      "(1536,)\n",
      "(1536,)\n",
      "(1536,)\n",
      "(1536,)\n",
      "(1536,)\n",
      "(1536,)\n",
      "(1536,)\n",
      "(1536,)\n",
      "(1536,)\n",
      "(1536,)\n",
      "(1536,)\n",
      "(1536,)\n",
      "(1536,)\n",
      "(1536,)\n",
      "(1536,)\n",
      "(1536,)\n",
      "(1536,)\n",
      "(1536,)\n",
      "(1536,)\n",
      "(1536,)\n",
      "(1536,)\n",
      "(1536,)\n",
      "(1536,)\n",
      "(1536,)\n",
      "(1536,)\n",
      "(1536,)\n",
      "(1536,)\n",
      "(1536,)\n",
      "(1536,)\n",
      "(1536,)\n",
      "(1536,)\n",
      "(1536,)\n",
      "(1536,)\n",
      "(1536,)\n",
      "(1536,)\n",
      "(1536,)\n",
      "(1536,)\n",
      "(1536,)\n",
      "(1536,)\n",
      "(1536,)\n",
      "(1536,)\n",
      "(1536,)\n",
      "(1536,)\n",
      "(1536,)\n",
      "(1536,)\n",
      "(1536,)\n",
      "(1536,)\n",
      "(1536,)\n",
      "(1536,)\n",
      "0.24653546981291344\n"
     ]
    }
   ],
   "source": [
    "similarities = []\n",
    "for e in leaf_embeddings:\n",
    "    print(np.array(e).shape)\n",
    "    similarities.append(np.dot(np.array(e), embedding))\n",
    "print(similarities[-1])"
   ]
  },
  {
   "cell_type": "code",
   "execution_count": 53,
   "id": "418c1c9e",
   "metadata": {},
   "outputs": [
    {
     "name": "stdout",
     "output_type": "stream",
     "text": [
      "Similarity: 0.4499 | Leaf: <p class=\"page-subtitle\">Explore our portfolio of successful projects and satisfied clients</p>\n",
      "Similarity: 0.4395 | Leaf: <a href=\"portfolio.html\">Portfolio</a>\n",
      "Similarity: 0.4285 | Leaf: <a class=\"nav-link active\" href=\"portfolio.html\">Portfolio</a>\n",
      "Similarity: 0.4182 | Leaf: <span class=\"section-badge\">Featured Case Study</span>\n",
      "Similarity: 0.4099 | Leaf: <h1 class=\"page-title\">Our Work</h1>\n",
      "Similarity: 0.4068 | Leaf: <h4 class=\"footer-section-title\">Company</h4>\n",
      "Similarity: 0.3998 | Leaf: <a class=\"nav-link\" href=\"services.html\">Services</a>\n",
      "Similarity: 0.3971 | Leaf: <a href=\"about.html\">About Us</a>\n",
      "Similarity: 0.3960 | Leaf: <a href=\"services.html\">Services</a>\n",
      "Similarity: 0.3931 | Leaf: <p class=\"cta-description\">\n",
      "                        Let's create something amazing together.\n",
      "                    </p>\n"
     ]
    },
    {
     "data": {
      "text/plain": [
       "['<p class=\"page-subtitle\">Explore our portfolio of successful projects and satisfied clients</p>',\n",
       " '<a href=\"portfolio.html\">Portfolio</a>',\n",
       " '<a class=\"nav-link active\" href=\"portfolio.html\">Portfolio</a>',\n",
       " '<span class=\"section-badge\">Featured Case Study</span>',\n",
       " '<h1 class=\"page-title\">Our Work</h1>',\n",
       " '<h4 class=\"footer-section-title\">Company</h4>',\n",
       " '<a class=\"nav-link\" href=\"services.html\">Services</a>',\n",
       " '<a href=\"about.html\">About Us</a>',\n",
       " '<a href=\"services.html\">Services</a>',\n",
       " '<p class=\"cta-description\">\\n                        Let\\'s create something amazing together.\\n                    </p>']"
      ]
     },
     "execution_count": 53,
     "metadata": {},
     "output_type": "execute_result"
    }
   ],
   "source": [
    "top5_indices = np.argsort(similarities)[-10:][::-1]\n",
    "top5_leaves = [leaves[i] for i in top5_indices]\n",
    "for idx in top5_indices:\n",
    "    print(f\"Similarity: {similarities[idx]:.4f} | Leaf: {leaves[idx]}\")\n",
    "top5_leaves"
   ]
  },
  {
   "cell_type": "code",
   "execution_count": null,
   "id": "84ada3ad",
   "metadata": {},
   "outputs": [],
   "source": []
  }
 ],
 "metadata": {
  "kernelspec": {
   "display_name": "base",
   "language": "python",
   "name": "python3"
  },
  "language_info": {
   "codemirror_mode": {
    "name": "ipython",
    "version": 3
   },
   "file_extension": ".py",
   "mimetype": "text/x-python",
   "name": "python",
   "nbconvert_exporter": "python",
   "pygments_lexer": "ipython3",
   "version": "3.13.5"
  }
 },
 "nbformat": 4,
 "nbformat_minor": 5
}
