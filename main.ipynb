{
 "cells": [
  {
   "cell_type": "code",
   "execution_count": 8,
   "id": "2d0574a5",
   "metadata": {},
   "outputs": [],
   "source": [
    "from html_helpers import extract_leaves\n",
    "from make_query import subgoal_to_embedding\n",
    "import os\n",
    "from dotenv import load_dotenv\n",
    "from openai import OpenAI\n",
    "import numpy as np\n",
    "load_dotenv()\n",
    "leaves = extract_leaves('portfolio.html')"
   ]
  },
  {
   "cell_type": "code",
   "execution_count": 9,
   "id": "4fa73fdb",
   "metadata": {},
   "outputs": [
    {
     "name": "stderr",
     "output_type": "stream",
     "text": [
      "100%|██████████| 131/131 [00:35<00:00,  3.68it/s]\n"
     ]
    }
   ],
   "source": [
    "from openai import OpenAI\n",
    "from Embedding import get_embedding, batch_get_embeddings\n",
    "from tqdm import tqdm\n",
    "\n",
    "leaf_embeddings = []\n",
    "for leaf in tqdm(leaves):\n",
    "    # Get HTML context (2 levels up) from the Leaf object\n",
    "    leaf_html = leaf.get_context(levels_up=2)\n",
    "    leaf_embedding = get_embedding(client, leaf_html)\n",
    "    leaf_embeddings.append(leaf_embedding)"
   ]
  },
  {
   "cell_type": "code",
   "execution_count": 10,
   "id": "eca3b87d",
   "metadata": {},
   "outputs": [
    {
     "name": "stdout",
     "output_type": "stream",
     "text": [
      "Transformed sub-goal → query:\n",
      "  'What/with whom did Techvision previously work with?' →\n",
      "  '\"section or div element containing previous clients or partners, list or grid of company logos or names, text content indicating collaborations with Techvision, elements with class names like 'partners', 'clients', or 'collaborations', possibly within a footer or about section\"'\n"
     ]
    }
   ],
   "source": [
    "# Create client from environment variable (or pass api_key here)\n",
    "# If OPENAI_API_KEY is set in your environment or loaded via .env, OpenAI() will pick it up.\n",
    "client = OpenAI(api_key=None)\n",
    "subgoal = 'What/with whom did Techvision previously work with?'\n",
    "embedding, query = subgoal_to_embedding(subgoal, transform=True)"
   ]
  },
  {
   "cell_type": "code",
   "execution_count": 11,
   "id": "f3649e34",
   "metadata": {},
   "outputs": [
    {
     "name": "stdout",
     "output_type": "stream",
     "text": [
      "(1536,)\n",
      "(1536,)\n",
      "(1536,)\n",
      "(1536,)\n",
      "(1536,)\n",
      "(1536,)\n",
      "(1536,)\n",
      "(1536,)\n",
      "(1536,)\n",
      "(1536,)\n",
      "(1536,)\n",
      "(1536,)\n",
      "(1536,)\n",
      "(1536,)\n",
      "(1536,)\n",
      "(1536,)\n",
      "(1536,)\n",
      "(1536,)\n",
      "(1536,)\n",
      "(1536,)\n",
      "(1536,)\n",
      "(1536,)\n",
      "(1536,)\n",
      "(1536,)\n",
      "(1536,)\n",
      "(1536,)\n",
      "(1536,)\n",
      "(1536,)\n",
      "(1536,)\n",
      "(1536,)\n",
      "(1536,)\n",
      "(1536,)\n",
      "(1536,)\n",
      "(1536,)\n",
      "(1536,)\n",
      "(1536,)\n",
      "(1536,)\n",
      "(1536,)\n",
      "(1536,)\n",
      "(1536,)\n",
      "(1536,)\n",
      "(1536,)\n",
      "(1536,)\n",
      "(1536,)\n",
      "(1536,)\n",
      "(1536,)\n",
      "(1536,)\n",
      "(1536,)\n",
      "(1536,)\n",
      "(1536,)\n",
      "(1536,)\n",
      "(1536,)\n",
      "(1536,)\n",
      "(1536,)\n",
      "(1536,)\n",
      "(1536,)\n",
      "(1536,)\n",
      "(1536,)\n",
      "(1536,)\n",
      "(1536,)\n",
      "(1536,)\n",
      "(1536,)\n",
      "(1536,)\n",
      "(1536,)\n",
      "(1536,)\n",
      "(1536,)\n",
      "(1536,)\n",
      "(1536,)\n",
      "(1536,)\n",
      "(1536,)\n",
      "(1536,)\n",
      "(1536,)\n",
      "(1536,)\n",
      "(1536,)\n",
      "(1536,)\n",
      "(1536,)\n",
      "(1536,)\n",
      "(1536,)\n",
      "(1536,)\n",
      "(1536,)\n",
      "(1536,)\n",
      "(1536,)\n",
      "(1536,)\n",
      "(1536,)\n",
      "(1536,)\n",
      "(1536,)\n",
      "(1536,)\n",
      "(1536,)\n",
      "(1536,)\n",
      "(1536,)\n",
      "(1536,)\n",
      "(1536,)\n",
      "(1536,)\n",
      "(1536,)\n",
      "(1536,)\n",
      "(1536,)\n",
      "(1536,)\n",
      "(1536,)\n",
      "(1536,)\n",
      "(1536,)\n",
      "(1536,)\n",
      "(1536,)\n",
      "(1536,)\n",
      "(1536,)\n",
      "(1536,)\n",
      "(1536,)\n",
      "(1536,)\n",
      "(1536,)\n",
      "(1536,)\n",
      "(1536,)\n",
      "(1536,)\n",
      "(1536,)\n",
      "(1536,)\n",
      "(1536,)\n",
      "(1536,)\n",
      "(1536,)\n",
      "(1536,)\n",
      "(1536,)\n",
      "(1536,)\n",
      "(1536,)\n",
      "(1536,)\n",
      "(1536,)\n",
      "(1536,)\n",
      "(1536,)\n",
      "(1536,)\n",
      "(1536,)\n",
      "(1536,)\n",
      "(1536,)\n",
      "(1536,)\n",
      "(1536,)\n",
      "(1536,)\n",
      "0.6417145001489428\n"
     ]
    }
   ],
   "source": [
    "similarities = []\n",
    "for e in leaf_embeddings:\n",
    "    print(np.array(e).shape)\n",
    "    similarities.append(np.dot(np.array(e), embedding))\n",
    "print(similarities[-1])"
   ]
  },
  {
   "cell_type": "code",
   "execution_count": 12,
   "id": "418c1c9e",
   "metadata": {},
   "outputs": [
    {
     "name": "stdout",
     "output_type": "stream",
     "text": [
      "Similarity: 0.6417 | Leaf: Leaf: '© 2025 TechVision. All rights ...' in <p>\n",
      "Similarity: 0.6416 | Leaf: Leaf: 'Support' in <h4>\n",
      "Similarity: 0.6416 | Leaf: Leaf: 'TechVision' in <h3>\n",
      "Similarity: 0.6416 | Leaf: Leaf: 'Building the future of technol...' in <p>\n",
      "Similarity: 0.6416 | Leaf: Leaf: 'Company' in <h4>\n",
      "Similarity: 0.6415 | Leaf: Leaf: 'Legal' in <h4>\n",
      "Similarity: 0.5789 | Leaf: Leaf: 'Our Work' in <h1>\n",
      "Similarity: 0.5789 | Leaf: Leaf: 'Explore our portfolio of succe...' in <p>\n",
      "Similarity: 0.5541 | Leaf: Leaf: 'TechVision' in <span>\n",
      "Similarity: 0.5331 | Leaf: Leaf: 'Blog' in <a>\n"
     ]
    },
    {
     "data": {
      "text/plain": [
       "[Leaf(text='© 2025 TechVision. A...', parent_tag='p'),\n",
       " Leaf(text='Support', parent_tag='h4'),\n",
       " Leaf(text='TechVision', parent_tag='h3'),\n",
       " Leaf(text='Building the future ...', parent_tag='p'),\n",
       " Leaf(text='Company', parent_tag='h4'),\n",
       " Leaf(text='Legal', parent_tag='h4'),\n",
       " Leaf(text='Our Work', parent_tag='h1'),\n",
       " Leaf(text='Explore our portfoli...', parent_tag='p'),\n",
       " Leaf(text='TechVision', parent_tag='span'),\n",
       " Leaf(text='Blog', parent_tag='a')]"
      ]
     },
     "execution_count": 12,
     "metadata": {},
     "output_type": "execute_result"
    }
   ],
   "source": [
    "top5_indices = np.argsort(similarities)[-10:][::-1]\n",
    "top5_leaves = [leaves[i] for i in top5_indices]\n",
    "for idx in top5_indices:\n",
    "    print(f\"Similarity: {similarities[idx]:.4f} | Leaf: {leaves[idx]}\")\n",
    "top5_leaves"
   ]
  },
  {
   "cell_type": "code",
   "execution_count": 13,
   "id": "84ada3ad",
   "metadata": {},
   "outputs": [
    {
     "data": {
      "text/plain": [
       "Leaf(text='TechVision', parent_tag='span')"
      ]
     },
     "execution_count": 13,
     "metadata": {},
     "output_type": "execute_result"
    }
   ],
   "source": [
    "example_leaf = leaves[0]\n",
    "example_leaf"
   ]
  },
  {
   "cell_type": "code",
   "execution_count": 14,
   "id": "7a0eea98",
   "metadata": {},
   "outputs": [
    {
     "name": "stdout",
     "output_type": "stream",
     "text": [
      "Example leaf: Leaf: 'TechVision' in <span>\n",
      "\n",
      "Going up 2 levels from this leaf...\n",
      "Found 7 leaves under the ancestor (including self)\n",
      "\n",
      "First 10 leaves:\n",
      "1. Leaf: 'TechVision' in <span>\n",
      "2. Leaf: 'Home' in <a>\n",
      "3. Leaf: 'About' in <a>\n",
      "4. Leaf: 'Services' in <a>\n",
      "5. Leaf: 'Portfolio' in <a>\n",
      "6. Leaf: 'Blog' in <a>\n",
      "7. Leaf: 'Contact' in <a>\n"
     ]
    }
   ],
   "source": [
    "# Test get_other_leaves_from_ancestor with n=2\n",
    "other_leaves = example_leaf.get_other_leaves_from_ancestor(2)\n",
    "\n",
    "print(f\"Example leaf: {example_leaf}\")\n",
    "print(f\"\\nGoing up 2 levels from this leaf...\")\n",
    "print(f\"Found {len(other_leaves)} leaves under the ancestor (including self)\\n\")\n",
    "\n",
    "print(\"First 10 leaves:\")\n",
    "for i, leaf in enumerate(other_leaves[:10]):\n",
    "    print(f\"{i+1}. {leaf}\")\n"
   ]
  },
  {
   "cell_type": "code",
   "execution_count": null,
   "id": "4dea16a8",
   "metadata": {},
   "outputs": [],
   "source": []
  }
 ],
 "metadata": {
  "kernelspec": {
   "display_name": "base",
   "language": "python",
   "name": "python3"
  },
  "language_info": {
   "codemirror_mode": {
    "name": "ipython",
    "version": 3
   },
   "file_extension": ".py",
   "mimetype": "text/x-python",
   "name": "python",
   "nbconvert_exporter": "python",
   "pygments_lexer": "ipython3",
   "version": "3.13.5"
  }
 },
 "nbformat": 4,
 "nbformat_minor": 5
}
